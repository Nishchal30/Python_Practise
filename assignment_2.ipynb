{
 "cells": [
  {
   "cell_type": "markdown",
   "metadata": {},
   "source": [
    "**1.\tPython Program for n-th Fibonacci number**"
   ]
  },
  {
   "cell_type": "code",
   "execution_count": 4,
   "metadata": {},
   "outputs": [
    {
     "name": "stdout",
     "output_type": "stream",
     "text": [
      "13598018856492162040239554477268290\n"
     ]
    }
   ],
   "source": [
    "#dynamic approach\n",
    "Fib_Array = [0,1]\n",
    "def fibonacci(n):\n",
    "   if n<0:\n",
    "      print(\"Fibbonacci can't be computed\")\n",
    "   elif n<=len(Fib_Array):\n",
    "      return Fib_Array[n-1]\n",
    "   else:\n",
    "      temp = fibonacci(n-1)+fibonacci(n-2)\n",
    "      Fib_Array.append(temp)\n",
    "      return temp\n",
    "# Driver Program\n",
    "n = int(input('Enter a number'))\n",
    "print(fibonacci(n))"
   ]
  },
  {
   "cell_type": "markdown",
   "metadata": {},
   "source": [
    "**2.\tPython Program for How to check if a given number is Fibonacci number?**"
   ]
  },
  {
   "cell_type": "code",
   "execution_count": 2,
   "metadata": {},
   "outputs": [
    {
     "name": "stdout",
     "output_type": "stream",
     "text": [
      "Yes. 34 is a fibonacci number.\n"
     ]
    }
   ],
   "source": [
    "fib_terms = [0, 1]  # first two fibonacci terms\n",
    "\n",
    "user_input= int(input('Enter the number you want to check\\n'))\n",
    "\n",
    "# Add new fibonacci terms until the user_input is reached\n",
    "while fib_terms[-1] <= user_input:\n",
    "    fib_terms.append(fib_terms[-1] + fib_terms[-2])\n",
    "\n",
    "if user_input in fib_terms:\n",
    "    print(f'Yes. {user_input} is a fibonacci number.')\n",
    "else:\n",
    "    print(f'No. {user_input} is NOT a fibonacci number.')"
   ]
  },
  {
   "cell_type": "markdown",
   "metadata": {},
   "source": [
    "**3.\tPython Program for n\\’th multiple of a number in Fibonacci Series**"
   ]
  },
  {
   "cell_type": "code",
   "execution_count": 2,
   "metadata": {},
   "outputs": [
    {
     "name": "stdout",
     "output_type": "stream",
     "text": [
      "Position of n'th multiple of k inFibonacci Series is:  30\n"
     ]
    }
   ],
   "source": [
    "# find function\n",
    "def find(k, n):\n",
    "   f1 = 0\n",
    "   f2 = 1\n",
    "   i =2;\n",
    "   #fibonacci recursion\n",
    "   while i!=0:\n",
    "      f3 = f1 + f2;\n",
    "      f1 = f2;\n",
    "      f2 = f3;\n",
    "      if f2%k == 0:\n",
    "         return n*i\n",
    "      i+=1\n",
    "   return\n",
    "# multiple of which number\n",
    "n = int(input('multiple of which number'));\n",
    "# number\n",
    "k = int(input('enter the number'));\n",
    "print(\"Position of n\\'th multiple of k in\"\"Fibonacci Series is: \", find(k,n));"
   ]
  },
  {
   "cell_type": "markdown",
   "metadata": {},
   "source": [
    "**4.\tProgram to print ASCII Value of a character**"
   ]
  },
  {
   "cell_type": "code",
   "execution_count": 5,
   "metadata": {},
   "outputs": [
    {
     "name": "stdout",
     "output_type": "stream",
     "text": [
      "The ASCII value of 'a' is 97\n"
     ]
    }
   ],
   "source": [
    "c = 'a'\n",
    "print(\"The ASCII value of '\" + c + \"' is\", ord(c))"
   ]
  },
  {
   "cell_type": "markdown",
   "metadata": {},
   "source": [
    "**5.\tPython Program for Sum of squares of first n natural numbers**"
   ]
  },
  {
   "cell_type": "code",
   "execution_count": 7,
   "metadata": {},
   "outputs": [
    {
     "name": "stdout",
     "output_type": "stream",
     "text": [
      "140\n"
     ]
    }
   ],
   "source": [
    "def sqsum(n) :\n",
    "   sm = 0\n",
    "   for i in range(1, n+1) :\n",
    "      sm = sm + pow(i,2)\n",
    "   return sm\n",
    "# main\n",
    "n = 7\n",
    "print(sqsum(n))"
   ]
  },
  {
   "cell_type": "markdown",
   "metadata": {},
   "source": [
    "**6.\tPython Program for cube sum of first n natural numbers**"
   ]
  },
  {
   "cell_type": "code",
   "execution_count": 10,
   "metadata": {},
   "outputs": [
    {
     "name": "stdout",
     "output_type": "stream",
     "text": [
      "225\n"
     ]
    }
   ],
   "source": [
    "def cubsum(n) :\n",
    "   sm = 0\n",
    "   for i in range(1, n+1) :\n",
    "      sm = sm + pow(i,3)\n",
    "   return sm\n",
    "# main\n",
    "n = 5\n",
    "print(cubsum(n))"
   ]
  },
  {
   "cell_type": "markdown",
   "metadata": {},
   "source": [
    "**7.\tPython Program to find sum of array**"
   ]
  },
  {
   "cell_type": "code",
   "execution_count": 11,
   "metadata": {},
   "outputs": [
    {
     "name": "stdout",
     "output_type": "stream",
     "text": [
      "Sum of all the elements of an array: 15\n"
     ]
    }
   ],
   "source": [
    "#Initialize array     \n",
    "arr = [1, 2, 3, 4, 5];     \n",
    "sum = 0;    \n",
    "     \n",
    "#Loop through the array to calculate sum of elements    \n",
    "for i in range(0, len(arr)):    \n",
    "   sum = sum + arr[i];    \n",
    "     \n",
    "print(\"Sum of all the elements of an array: \" + str(sum));  "
   ]
  },
  {
   "cell_type": "markdown",
   "metadata": {},
   "source": [
    "**8.\tPython Program to find largest element in an array**"
   ]
  },
  {
   "cell_type": "code",
   "execution_count": 12,
   "metadata": {},
   "outputs": [
    {
     "name": "stdout",
     "output_type": "stream",
     "text": [
      "Largest element present in given array: 75\n"
     ]
    }
   ],
   "source": [
    "#Initialize array     \n",
    "arr = [25, 11, 7, 75, 56];     \n",
    "     \n",
    "#Initialize max with first element of array.    \n",
    "max = arr[0];    \n",
    "     \n",
    "#Loop through the array    \n",
    "for i in range(0, len(arr)):    \n",
    "    #Compare elements of array with max    \n",
    "   if(arr[i] > max):    \n",
    "       max = arr[i];    \n",
    "           \n",
    "print(\"Largest element present in given array: \" + str(max)); "
   ]
  },
  {
   "cell_type": "markdown",
   "metadata": {},
   "source": [
    "**9.\tPython Program for array rotation**"
   ]
  },
  {
   "cell_type": "code",
   "execution_count": 13,
   "metadata": {},
   "outputs": [
    {
     "name": "stdout",
     "output_type": "stream",
     "text": [
      "Array after left rotation is:  [3, 4, 5, 6, 7, 1, 2]\n"
     ]
    }
   ],
   "source": [
    "def rotateArray(a,d):\n",
    "    temp = []\n",
    "    n=len(a)\n",
    "    for i in range(d,n):\n",
    "        temp.append(a[i])\n",
    "    i = 0\n",
    "    for i in range (0,d):\n",
    "        temp.append(a[i])\n",
    "    a=temp.copy()\n",
    "    return a\n",
    " \n",
    "arr = [1, 2, 3, 4, 5, 6, 7]\n",
    "print(\"Array after left rotation is: \", end=' ')\n",
    "print(rotateArray(arr, 2))"
   ]
  },
  {
   "cell_type": "markdown",
   "metadata": {},
   "source": [
    "**10.\tPython Program for Reversal algorithm for array rotation**"
   ]
  },
  {
   "cell_type": "code",
   "execution_count": 14,
   "metadata": {},
   "outputs": [
    {
     "name": "stdout",
     "output_type": "stream",
     "text": [
      "10 20 13 24 53 6 17 \n",
      "Shifted array: \n",
      "13 24 53 6 17 10 20 "
     ]
    }
   ],
   "source": [
    "def reverseArray(arr, start, end):\n",
    "    while (start < end):\n",
    "        temp=arr[start]\n",
    "        arr[start]=arr[end]\n",
    "        arr[end]=temp\n",
    "        start=start+1\n",
    "        end=end-1\n",
    "  \n",
    "def Rotate(a, d):\n",
    "    if d == 0:\n",
    "        return\n",
    "    n = len(a)\n",
    "    d = d % n\n",
    "    reverseArray(a, 0, d-1)\n",
    "    reverseArray(a, d, n-1)\n",
    "    reverseArray(a, 0, n-1)\n",
    "  \n",
    "def printArray(arr):\n",
    "    for i in range(0, len(arr)):\n",
    "        print(arr[i],end=\" \")\n",
    "  \n",
    "a= [10, 20, 13, 24, 53, 6, 17]\n",
    "n = len(a)\n",
    "d = 2\n",
    "printArray(a)  \n",
    "Rotate(a, d)\n",
    "print(\"\\nShifted array: \")  \n",
    "printArray(a)"
   ]
  },
  {
   "cell_type": "markdown",
   "metadata": {},
   "source": [
    "**11.\tPython Program to Split the array and add the first part to the end**"
   ]
  },
  {
   "cell_type": "code",
   "execution_count": 15,
   "metadata": {},
   "outputs": [
    {
     "name": "stdout",
     "output_type": "stream",
     "text": [
      "15 16 50 36 15 40 "
     ]
    }
   ],
   "source": [
    "def SplitArray(arr, n, k):\n",
    "\tfor i in range(0, k):\n",
    "\t\tx = arr[0]\n",
    "\t\tfor j in range(0, n-1):\n",
    "\t\t\tarr[j] = arr[j + 1]\n",
    "\t\t\n",
    "\t\tarr[n-1] = x\t\t\n",
    "arr = [15, 40, 15, 16, 50, 36]\n",
    "n = len(arr)\n",
    "position = 2\n",
    "SplitArray(arr, n, position)\n",
    "for i in range(0, n):\n",
    "\tprint(arr[i], end = ' ')"
   ]
  },
  {
   "cell_type": "code",
   "execution_count": null,
   "metadata": {},
   "outputs": [],
   "source": []
  }
 ],
 "metadata": {
  "kernelspec": {
   "display_name": "Python 3.9.7 ('base')",
   "language": "python",
   "name": "python3"
  },
  "language_info": {
   "codemirror_mode": {
    "name": "ipython",
    "version": 3
   },
   "file_extension": ".py",
   "mimetype": "text/x-python",
   "name": "python",
   "nbconvert_exporter": "python",
   "pygments_lexer": "ipython3",
   "version": "3.9.7"
  },
  "orig_nbformat": 4,
  "vscode": {
   "interpreter": {
    "hash": "8234b20cd16342bafdf4e77b2e7e46090ea41daaf6ba64748ecc0697d4aefb52"
   }
  }
 },
 "nbformat": 4,
 "nbformat_minor": 2
}
