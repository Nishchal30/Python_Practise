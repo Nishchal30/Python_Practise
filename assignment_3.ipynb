{
 "cells": [
  {
   "cell_type": "markdown",
   "metadata": {},
   "source": [
    "**1.\tPython Program for Find reminder of array multiplication divided by n**"
   ]
  },
  {
   "cell_type": "code",
   "execution_count": 3,
   "metadata": {},
   "outputs": [
    {
     "name": "stdout",
     "output_type": "stream",
     "text": [
      "Enter elements of the array: \n",
      "The remainder of array multiplication by divisor is  4\n"
     ]
    }
   ],
   "source": [
    "def findArrMulRemainder(arr, n, R):\n",
    "    prodVal = 1\n",
    "    for i in range(n):\n",
    "\t    prodVal *= arr[i]\n",
    "    return (prodVal % R)\n",
    "\n",
    "# Taking array input from user\n",
    "n = int(input(\"Enter number of elements of the array: \"))\n",
    "arr = []\n",
    "print(\"Enter elements of the array: \")\n",
    "for i in range(n):\n",
    "  numbers = int(input())\n",
    "  arr.append(numbers)\n",
    "D = int(input(\"Enter divisor: \"))\n",
    "\n",
    "rem = findArrMulRemainder(arr, n, D)\n",
    "print(\"The remainder of array multiplication by divisor is \", rem)\n"
   ]
  },
  {
   "cell_type": "markdown",
   "metadata": {},
   "source": [
    "**2.\tPython Program to check if given array is Monotonic**"
   ]
  },
  {
   "cell_type": "code",
   "execution_count": 6,
   "metadata": {},
   "outputs": [
    {
     "name": "stdout",
     "output_type": "stream",
     "text": [
      "False\n"
     ]
    }
   ],
   "source": [
    "def isMonotonic(A):\n",
    "   return (all(A[i] <= A[i + 1] for i in range(len(A) - 1)) or\n",
    "      all(A[i] >= A[i + 1] for i in range(len(A) - 1)))\n",
    "# main\n",
    "A = [11,21,3,5,7,8]\n",
    "print(isMonotonic(A))"
   ]
  },
  {
   "cell_type": "markdown",
   "metadata": {},
   "source": [
    "**3.\tPython program to interchange first and last elements in a list**"
   ]
  },
  {
   "cell_type": "code",
   "execution_count": 7,
   "metadata": {},
   "outputs": [
    {
     "name": "stdout",
     "output_type": "stream",
     "text": [
      "Initial List :  [1, 7, 3, 90, 23, 4]\n",
      "List after Swapping :  [4, 7, 3, 90, 23, 1]\n"
     ]
    }
   ],
   "source": [
    "myList = [1, 7, 3, 90, 23, 4]\n",
    "print(\"Initial List : \", myList)\n",
    "\n",
    "length = len(myList)\n",
    "\n",
    "temp = myList[0]\n",
    "myList[0] = myList[length - 1]\n",
    "myList[length - 1] = temp\n",
    "\n",
    "print(\"List after Swapping : \", myList)"
   ]
  },
  {
   "cell_type": "markdown",
   "metadata": {},
   "source": [
    "**4.\tPython program to swap two elements in a list**"
   ]
  },
  {
   "cell_type": "code",
   "execution_count": 8,
   "metadata": {},
   "outputs": [
    {
     "name": "stdout",
     "output_type": "stream",
     "text": [
      "[10, 14, 5, 9, 56, 12]\n",
      "Swapped list:  [10, 56, 5, 9, 14, 12]\n"
     ]
    }
   ],
   "source": [
    "def swapList(sl,pos1,pos2):\n",
    "    n = len(sl)     \n",
    "    # Swapping \n",
    "    temp = sl[pos1]\n",
    "    sl[pos1] = sl[pos2]\n",
    "    sl[pos2] = temp\n",
    "    return sl      \n",
    "l= [10, 14, 5, 9, 56, 12]\n",
    "pos1= 2\n",
    "pos2= 5\n",
    "print(l)\n",
    "print(\"Swapped list: \",swapList(l,pos1-1,pos2-1))"
   ]
  },
  {
   "cell_type": "markdown",
   "metadata": {},
   "source": [
    "**5.\twrite a program to find length of list**"
   ]
  },
  {
   "cell_type": "code",
   "execution_count": 9,
   "metadata": {},
   "outputs": [
    {
     "name": "stdout",
     "output_type": "stream",
     "text": [
      "List :  [1, 4, 5, 7, 8]\n",
      "Length of list using naive method is :  5\n"
     ]
    }
   ],
   "source": [
    "def list_length(list):\n",
    "    counter=0\n",
    "    for i in list:\n",
    "        counter=counter+1   \n",
    "    return counter\n",
    "\n",
    "li = [ 1, 4, 5, 7, 8 ]\n",
    "print (\"List : \",li)\n",
    "print (\"Length of list using naive method is : \",list_length(li))"
   ]
  },
  {
   "cell_type": "markdown",
   "metadata": {},
   "source": [
    "**6.\twrite a program to check if element exists in list**"
   ]
  },
  {
   "cell_type": "code",
   "execution_count": 10,
   "metadata": {},
   "outputs": [
    {
     "name": "stdout",
     "output_type": "stream",
     "text": [
      "Check if 34 is in [9, 2, 34, 2, 5, 9, 16]\n",
      "True\n"
     ]
    }
   ],
   "source": [
    "def check(list,element):\n",
    "    for i in list:\n",
    "         if i==element:\n",
    "             return True  \n",
    "    return False\n",
    "\n",
    "li=[9, 2, 34, 2, 5, 9, 16]\n",
    "element= 34\n",
    "\n",
    "print(\"Check if\",element,\"is in\",li)\n",
    "print(check(li,element))"
   ]
  },
  {
   "cell_type": "markdown",
   "metadata": {},
   "source": [
    "**7.\twrite a program to clear a list in Python**"
   ]
  },
  {
   "cell_type": "code",
   "execution_count": 12,
   "metadata": {},
   "outputs": [
    {
     "name": "stdout",
     "output_type": "stream",
     "text": [
      "Existing list ['Mon', 'Tue', 'Wed', 'Thu']\n",
      "After clearing the list\n",
      "[]\n"
     ]
    }
   ],
   "source": [
    "list = ['Mon', 'Tue', 'Wed', 'Thu']\n",
    "print(\"Existing list\",list)\n",
    "#clear the list\n",
    "list.clear()\n",
    "print(\"After clearing the list\")\n",
    "print(list)"
   ]
  },
  {
   "cell_type": "markdown",
   "metadata": {},
   "source": [
    "**8.\twrite a program to Reversing a List**"
   ]
  },
  {
   "cell_type": "code",
   "execution_count": 13,
   "metadata": {},
   "outputs": [
    {
     "name": "stdout",
     "output_type": "stream",
     "text": [
      "Reversed List: [7, 5, 3, 2]\n"
     ]
    }
   ],
   "source": [
    "prime_numbers = [2, 3, 5, 7]\n",
    "prime_numbers.reverse()\n",
    "print('Reversed List:', prime_numbers)"
   ]
  },
  {
   "cell_type": "markdown",
   "metadata": {},
   "source": [
    "**9.\twrite a program to find sum of elements in list**"
   ]
  },
  {
   "cell_type": "code",
   "execution_count": 14,
   "metadata": {},
   "outputs": [
    {
     "name": "stdout",
     "output_type": "stream",
     "text": [
      "[10, 9, 7, 5]\n",
      "sum of list:  31\n"
     ]
    }
   ],
   "source": [
    "def sumlist(list):\n",
    "    sum=0\n",
    "    for i in range(len(list)):\n",
    "        sum = sum+list[i]\n",
    "    return sum\n",
    "list = [10, 9, 7, 5]\n",
    "print(list)\n",
    "print(\"sum of list: \",sumlist(list))"
   ]
  },
  {
   "cell_type": "markdown",
   "metadata": {},
   "source": [
    "**10.\twrite a program to Multiply all numbers in the list**"
   ]
  },
  {
   "cell_type": "code",
   "execution_count": 17,
   "metadata": {},
   "outputs": [
    {
     "name": "stdout",
     "output_type": "stream",
     "text": [
      "-16\n"
     ]
    }
   ],
   "source": [
    "def multiply_list(items):\n",
    "    tot = 1\n",
    "    for x in items:\n",
    "        tot *= x\n",
    "    return tot\n",
    "print(multiply_list([1,-2,8]))"
   ]
  },
  {
   "cell_type": "code",
   "execution_count": null,
   "metadata": {},
   "outputs": [],
   "source": []
  }
 ],
 "metadata": {
  "kernelspec": {
   "display_name": "Python 3.9.7 ('base')",
   "language": "python",
   "name": "python3"
  },
  "language_info": {
   "codemirror_mode": {
    "name": "ipython",
    "version": 3
   },
   "file_extension": ".py",
   "mimetype": "text/x-python",
   "name": "python",
   "nbconvert_exporter": "python",
   "pygments_lexer": "ipython3",
   "version": "3.9.7"
  },
  "orig_nbformat": 4,
  "vscode": {
   "interpreter": {
    "hash": "8234b20cd16342bafdf4e77b2e7e46090ea41daaf6ba64748ecc0697d4aefb52"
   }
  }
 },
 "nbformat": 4,
 "nbformat_minor": 2
}
