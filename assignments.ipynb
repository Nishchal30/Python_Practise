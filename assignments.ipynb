{
 "cells": [
  {
   "cell_type": "markdown",
   "metadata": {},
   "source": [
    "*1.Write a Python program to find those numbers which are divisible by 7 and multiple of 5, between 1500 and 2700 (both included).*"
   ]
  },
  {
   "cell_type": "code",
   "execution_count": 1,
   "metadata": {},
   "outputs": [
    {
     "data": {
      "text/plain": [
       "[1505,\n",
       " 1540,\n",
       " 1575,\n",
       " 1610,\n",
       " 1645,\n",
       " 1680,\n",
       " 1715,\n",
       " 1750,\n",
       " 1785,\n",
       " 1820,\n",
       " 1855,\n",
       " 1890,\n",
       " 1925,\n",
       " 1960,\n",
       " 1995,\n",
       " 2030,\n",
       " 2065,\n",
       " 2100,\n",
       " 2135,\n",
       " 2170,\n",
       " 2205,\n",
       " 2240,\n",
       " 2275,\n",
       " 2310,\n",
       " 2345,\n",
       " 2380,\n",
       " 2415,\n",
       " 2450,\n",
       " 2485,\n",
       " 2520,\n",
       " 2555,\n",
       " 2590,\n",
       " 2625,\n",
       " 2660,\n",
       " 2695]"
      ]
     },
     "execution_count": 1,
     "metadata": {},
     "output_type": "execute_result"
    }
   ],
   "source": [
    "li = []\n",
    "for i in range(1499,2700,1):\n",
    "    if (i % 7 == 0) and (i % 5 == 0):\n",
    "        li.append(i)\n",
    "    else:\n",
    "        continue\n",
    "li"
   ]
  },
  {
   "cell_type": "markdown",
   "metadata": {},
   "source": [
    "*2.Python program to add two numbers*"
   ]
  },
  {
   "cell_type": "code",
   "execution_count": 2,
   "metadata": {},
   "outputs": [
    {
     "name": "stdout",
     "output_type": "stream",
     "text": [
      "addition of twp numbers is 54\n"
     ]
    }
   ],
   "source": [
    "a = int(input('input a number'))\n",
    "b = int(input('input the second number'))\n",
    "\n",
    "sum = a + b\n",
    "print('addition of twp numbers is', sum)"
   ]
  },
  {
   "cell_type": "markdown",
   "metadata": {},
   "source": [
    "*3.Maximum of two numbers in Python*"
   ]
  },
  {
   "cell_type": "code",
   "execution_count": 3,
   "metadata": {},
   "outputs": [
    {
     "name": "stdout",
     "output_type": "stream",
     "text": [
      "max of two numbers is:  43\n"
     ]
    }
   ],
   "source": [
    "a = int(input('input a number'))\n",
    "b = int(input('input the second number'))\n",
    "\n",
    "if a > b:\n",
    "    print('max of two numbers is: ',a)\n",
    "else:\n",
    "    print('max of two numbers is: ', b)"
   ]
  },
  {
   "cell_type": "markdown",
   "metadata": {},
   "source": [
    "*4.\tPython Program for factorial of a number*"
   ]
  },
  {
   "cell_type": "code",
   "execution_count": 4,
   "metadata": {},
   "outputs": [
    {
     "name": "stdout",
     "output_type": "stream",
     "text": [
      "factorial is  362880\n"
     ]
    }
   ],
   "source": [
    "num = int(input('enter a number'))\n",
    "\n",
    "fact = 1\n",
    "while(num > 0):\n",
    "    fact = fact * num\n",
    "    num = num - 1\n",
    "print('factorial is ', fact)"
   ]
  },
  {
   "cell_type": "markdown",
   "metadata": {},
   "source": [
    "*5.\tPython Program for simple interest*"
   ]
  },
  {
   "cell_type": "code",
   "execution_count": 5,
   "metadata": {},
   "outputs": [
    {
     "name": "stdout",
     "output_type": "stream",
     "text": [
      "simple interest is  14161.0\n"
     ]
    }
   ],
   "source": [
    "principle = int(input('enter the principle amount'))\n",
    "time = float(input('enter the time period in years'))\n",
    "rate = float(input('enter the rate of interest'))\n",
    "\n",
    "s_i = principle * time * rate\n",
    "\n",
    "print('simple interest is ',s_i)"
   ]
  },
  {
   "cell_type": "markdown",
   "metadata": {},
   "source": [
    "*6.\tPython Program for compound interest*"
   ]
  },
  {
   "cell_type": "code",
   "execution_count": 8,
   "metadata": {},
   "outputs": [
    {
     "name": "stdout",
     "output_type": "stream",
     "text": [
      "compound interest will be  2894.276459266525\n"
     ]
    }
   ],
   "source": [
    "P = int(input(\"Enter starting principle amount\"))\n",
    "n = float(input(\"Enter Compound intrest rate\"))\n",
    "r = float(input(\"Enter annual interest amount\"))\n",
    "t = float(input(\"Enter the amount of years\"))\n",
    "\n",
    "final = P * (((1 + (r/n)) ** (n*t)))\n",
    "\n",
    "print('compound interest will be ', final)"
   ]
  },
  {
   "cell_type": "markdown",
   "metadata": {},
   "source": [
    "*7.\tPython Program to check Armstrong Number*"
   ]
  },
  {
   "cell_type": "code",
   "execution_count": 9,
   "metadata": {},
   "outputs": [
    {
     "name": "stdout",
     "output_type": "stream",
     "text": [
      "151 is not an Armstrong number\n"
     ]
    }
   ],
   "source": [
    "num = int(input(\"Enter a number: \"))\n",
    "\n",
    "sum = 0\n",
    "\n",
    "temp = num\n",
    "while temp > 0:\n",
    "   digit = temp % 10\n",
    "   sum = sum + digit ** 3\n",
    "   temp = temp // 10\n",
    "\n",
    "# display the result\n",
    "if num == sum:\n",
    "   print(num,\"is an Armstrong number\")\n",
    "else:\n",
    "   print(num,\"is not an Armstrong number\")"
   ]
  },
  {
   "cell_type": "markdown",
   "metadata": {},
   "source": [
    "*8.Python Program to find area of a circle*"
   ]
  },
  {
   "cell_type": "code",
   "execution_count": 10,
   "metadata": {},
   "outputs": [
    {
     "name": "stdout",
     "output_type": "stream",
     "text": [
      "area of circle is 1520.5308443374597\n"
     ]
    }
   ],
   "source": [
    "from cmath import pi\n",
    "radius = float(input('enter the radius of circle'))\n",
    "\n",
    "area = pi * radius * radius\n",
    "\n",
    "print('area of circle is',area)"
   ]
  },
  {
   "cell_type": "markdown",
   "metadata": {},
   "source": [
    "*9.\tPython program to print all Prime numbers in an Interval*"
   ]
  },
  {
   "cell_type": "code",
   "execution_count": 11,
   "metadata": {},
   "outputs": [
    {
     "name": "stdout",
     "output_type": "stream",
     "text": [
      "[173, 179, 181, 191, 193, 197, 199, 211, 223, 227, 229, 233, 239, 241, 251, 257, 263, 269, 271, 277, 281, 283, 293, 307, 311, 313, 317, 331, 337, 347, 349, 353, 359, 367, 373, 379, 383, 389, 397, 401, 409, 419, 421, 431, 433, 439, 443, 449, 457, 461, 463, 467, 479, 487, 491, 499, 503, 509, 521, 523, 541, 547, 557, 563, 569, 571, 577, 587, 593, 599, 601, 607, 613, 617, 619, 631, 641, 643, 647, 653, 659, 661, 673, 677, 683, 691, 701, 709, 719, 727, 733, 739, 743, 751, 757, 761, 769, 773, 787, 797, 809, 811, 821, 823, 827, 829, 839, 853, 857, 859, 863, 877, 881, 883, 887, 907, 911, 919, 929, 937, 941, 947, 953, 967, 971, 977, 983, 991, 997, 1009, 1013, 1019, 1021, 1031, 1033, 1039, 1049, 1051, 1061, 1063, 1069, 1087, 1091, 1093, 1097, 1103, 1109, 1117, 1123, 1129, 1151, 1153, 1163, 1171, 1181, 1187, 1193, 1201, 1213, 1217, 1223, 1229, 1231, 1237, 1249, 1259, 1277, 1279, 1283, 1289, 1291, 1297, 1301, 1303, 1307, 1319, 1321, 1327, 1361, 1367, 1373, 1381, 1399, 1409, 1423, 1427, 1429, 1433, 1439, 1447, 1451, 1453, 1459, 1471, 1481, 1483, 1487, 1489, 1493, 1499, 1511, 1523, 1531, 1543, 1549, 1553, 1559, 1567, 1571, 1579, 1583, 1597, 1601, 1607, 1609, 1613, 1619, 1621, 1627, 1637, 1657, 1663, 1667, 1669, 1693, 1697, 1699, 1709, 1721, 1723, 1733, 1741, 1747, 1753, 1759, 1777, 1783, 1787, 1789, 1801, 1811, 1823, 1831, 1847, 1861, 1867, 1871, 1873, 1877, 1879, 1889, 1901, 1907, 1913, 1931, 1933]\n"
     ]
    }
   ],
   "source": [
    "lower_number = int(input('enter the lower number'))\n",
    "higher_number = int(input('enter the highest number'))\n",
    "\n",
    "prime_num_list = []\n",
    "\n",
    "for i in range(lower_number, higher_number + 1):\n",
    "    if i > 1:\n",
    "        for num in range(2, i):\n",
    "            if (i % num== 0):\n",
    "                break\n",
    "        else:\n",
    "           prime_num_list.append(i)\n",
    "\n",
    "print(prime_num_list)"
   ]
  },
  {
   "cell_type": "markdown",
   "metadata": {},
   "source": [
    "*10. Python program to check whether a number is Prime or not*"
   ]
  },
  {
   "cell_type": "code",
   "execution_count": 12,
   "metadata": {},
   "outputs": [
    {
     "name": "stdout",
     "output_type": "stream",
     "text": [
      "number is not prime 22\n"
     ]
    }
   ],
   "source": [
    "num = int(input('enter a number'))\n",
    "\n",
    "if num > 1:\n",
    "    for i in range(2, num):\n",
    "        if (num % i == 0):\n",
    "            print('number is not prime', num)\n",
    "            break\n",
    "    else:\n",
    "        print('number is prime', num)"
   ]
  },
  {
   "cell_type": "code",
   "execution_count": null,
   "metadata": {},
   "outputs": [],
   "source": []
  }
 ],
 "metadata": {
  "kernelspec": {
   "display_name": "Python 3.9.7 ('base')",
   "language": "python",
   "name": "python3"
  },
  "language_info": {
   "codemirror_mode": {
    "name": "ipython",
    "version": 3
   },
   "file_extension": ".py",
   "mimetype": "text/x-python",
   "name": "python",
   "nbconvert_exporter": "python",
   "pygments_lexer": "ipython3",
   "version": "3.9.7"
  },
  "orig_nbformat": 4,
  "vscode": {
   "interpreter": {
    "hash": "8234b20cd16342bafdf4e77b2e7e46090ea41daaf6ba64748ecc0697d4aefb52"
   }
  }
 },
 "nbformat": 4,
 "nbformat_minor": 2
}
